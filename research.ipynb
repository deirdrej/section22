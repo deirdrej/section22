{
 "cells": [
  {
   "cell_type": "code",
   "execution_count": null,
   "id": "fb064088",
   "metadata": {},
   "outputs": [],
   "source": [
    "import sagemaker\n",
    "from sklearn.model_selection import train_test_split\n",
    "import boto3\n",
    "import pandas as pandas\n",
    "\n",
    "sm_boto3 = boto3.client(\"sagemaker\")\n",
    "sess = sagemaker.Session()\n",
    "region = sess.boto_session.region_name\n",
    "bucket = \"mobbucketsagemaker\"\n",
    "print(\"Using bucket \" + bucket)"
   ]
  },
  {
   "cell_type": "code",
   "execution_count": null,
   "id": "5e7242b6",
   "metadata": {},
   "outputs": [],
   "source": [
    "print(region)"
   ]
  },
  {
   "cell_type": "code",
   "execution_count": null,
   "id": "e0d922c5",
   "metadata": {},
   "outputs": [],
   "source": [
    "df = pd.read_csv(\"mob_price_classification_train.csv\")\n",
    "df.head()"
   ]
  },
  {
   "cell_type": "code",
   "execution_count": null,
   "id": "2bd94588",
   "metadata": {},
   "outputs": [],
   "source": [
    "df['price_range'].value_counts()"
   ]
  },
  {
   "cell_type": "code",
   "execution_count": null,
   "id": "fdcb4ed7",
   "metadata": {},
   "outputs": [],
   "source": [
    "features = list(df.columns)\n",
    "features"
   ]
  },
  {
   "cell_type": "code",
   "execution_count": null,
   "id": "7f151652",
   "metadata": {},
   "outputs": [],
   "source": [
    "x = df[features]\n",
    "y = df[label]"
   ]
  },
  {
   "cell_type": "code",
   "execution_count": null,
   "id": "6c7b51a3",
   "metadata": {},
   "outputs": [],
   "source": [
    "X_train, X_test, y_train, y_test = train_test_split(x, y)"
   ]
  },
  {
   "cell_type": "code",
   "execution_count": null,
   "id": "5f505c65",
   "metadata": {},
   "outputs": [],
   "source": [
    "trainX = pd.DataFrame(X_train)\n",
    "trainX"
   ]
  },
  {
   "cell_type": "code",
   "execution_count": null,
   "id": "5e6061fc",
   "metadata": {},
   "outputs": [],
   "source": [
    "trainX.to_csv(\"train-V-1.csv\", index = False)\n",
    "testX.to_csv(\"test-V-1.csv\", index = False)"
   ]
  },
  {
   "cell_type": "code",
   "execution_count": null,
   "id": "cfbf41d8",
   "metadata": {},
   "outputs": [],
   "source": [
    "# Send data to S3. Sagemaker will take the data for training from s3\n",
    "sk_prefix = \"sagemaker/mobile-price-classification/sklearncontainer\"\n",
    "trainpath = sess.upload_data(path=\"train-V-1.csv\", bucket = bucket, key_prefix = sk_prefix)\n",
    "testpath = sess.upload_data(path=\"test-V-1.csv\", bucket = bucket, key_prefix = sk_prefix)"
   ]
  },
  {
   "cell_type": "markdown",
   "id": "96523d1e",
   "metadata": {},
   "source": [
    "# Script used by AWS SageMaker to train models"
   ]
  },
  {
   "cell_type": "code",
   "execution_count": null,
   "id": "63191f9e",
   "metadata": {},
   "outputs": [
    {
     "ename": "",
     "evalue": "",
     "output_type": "error",
     "traceback": [
      "\u001b[1;31mRunning cells with '.venv (Python 3.13.0)' requires the ipykernel package.\n",
      "\u001b[1;31mInstall 'ipykernel' into the Python environment. \n",
      "\u001b[1;31mCommand: 'c:/Users/DeirdreJost/mlops/section22/.venv/Scripts/python.exe -m pip install ipykernel -U --force-reinstall'"
     ]
    }
   ],
   "source": [
    "%%writefile script.py\n",
    "\n",
    "from sklearn.ensemble import RandomForestClassifier\n",
    "from sklearn.metrics import accuracy_score, classification_report, confusion_matrix, precision_score\n",
    "import sklearn\n",
    "import joblib\n",
    "import boto3\n",
    "import pathlib\n",
    "from io import StringIO\n",
    "import argparse\n",
    "import os\n",
    "import numpy as np\n",
    "import pandas as pd\n",
    "\n",
    "def model_fn(model_dir):\n",
    "    clf = joblib.load(os.path.join(model_dir, \"model.joblib\"))\n",
    "\n",
    "if __name__ == \"__main__\":\n",
    "    print(\"[Info] Extracting arguments\")\n",
    "    parser = argparse.ArgumentParser()\n",
    "\n",
    "    # Hyperparameters\n",
    "    parser.add_argument(\"--n_estimators\", type = int, default = 100)\n",
    "    parser.add_argument(\"--random_state\", type = int, default = 0)\n",
    "\n",
    "    # Data, model, and output directories\n",
    "    parser.add_argument(\"--model-dir\", type = str, default = os.environ.get(\"SM_MODEL_DIR\"))\n",
    "    parser.add_argument(\"--train\", type = str, default = os.environ.get(\"SM_CHANNEL_TRAIN\"))\n",
    "    parser.add_argument(\"--test\", type = str, default = os.environ.get(\"SM_CHANNEL_TEST\"))\n",
    "    parser.add_argument(\"--train-file\", type = str, default = \"train-V-1.csv\")\n",
    "    parser.add_argument(\"--test-file\", type = str, default = \"train-V-1.csv\")\n",
    "\n",
    "    args, _ = parser.parse_known_args()\n",
    "\n",
    "    print(\"SKLearn Version: \", sklearn.__version__)\n",
    "    print(\"Joblib Version: \", joblib.__version__)\n",
    "\n",
    "    print(\"[INFO] Reading data\")\n",
    "    print()\n",
    "    train_df = pd.read_csv(os.path.join(args.train, args.train_file))\n",
    "    test_df = pd.read_csv(os.path.join(args.test, args.test_file))\n",
    "\n",
    "    features = list(train_df.columns)\n",
    "    label = features.pop(-1)\n",
    "\n",
    "    print(\"Building the train and test datasets\")\n",
    "    print()\n",
    "    X_train = train_df[features]\n",
    "    X_test = test_df[features]\n",
    "    y_train = train_df[label]\n",
    "    y_test = test_df[label]\n",
    "\n",
    "    print('Column order: ')\n",
    "    print(features)\n",
    "    print()\n",
    "\n",
    "    print('Label column is: ', label)\n",
    "    print()\n",
    "\n",
    "    print(\"Data Shape: \")\n",
    "    print()\n",
    "    print(\"---- SHAPE OF TRAINING DATA (85%) ----\")\n",
    "    print(X_train.shape)\n",
    "    print(y_train.shape)\n",
    "    print()\n",
    "\n",
    "    print(\"---- SHAPE OF TESTING DATA (15%) ----\")\n",
    "    print(X_test.shape)\n",
    "    print(y_test.shape)\n",
    "    print()\n",
    "\n",
    "    print(\"Training Random Forest Model . . . . \")\n",
    "    print()\n",
    "    model = RandomForestClassifier(n_estimators = args.n_estimators, random_state = args.random_state, verbose = 2, n_jobs = 1)\n",
    "    model.fit(X_train, y_train)\n",
    "    print()\n",
    "\n",
    "    model_path = os.path.join(args.model_dir, \"model.joblib\")\n",
    "    joblib.dump(model, model_path)\n",
    "\n",
    "    print(\"Model saved at \" + model_path)\n",
    "\n",
    "    y_pred_test = model.predict(X_test)\n",
    "    test_acc = accuracy_score(y_test, y_pred_test)\n",
    "    test_rep = classification_report(y_test, y_pred_test)\n",
    "\n",
    "    print()\n",
    "    print(\"---- METRICS RESULTS FOR TESTING DATA ----\")\n",
    "    print()\n",
    "    print(\"Total rows are: \", X_test.shape[0])\n",
    "    print('[TESTING] Model accuracy is: ', test_acc)\n",
    "    print('[TESTING] Testing report: ')\n",
    "    print(test_rep)"
   ]
  },
  {
   "cell_type": "code",
   "execution_count": null,
   "id": "8c2d3bf7",
   "metadata": {},
   "outputs": [],
   "source": []
  }
 ],
 "metadata": {
  "kernelspec": {
   "display_name": ".venv",
   "language": "python",
   "name": "python3"
  },
  "language_info": {
   "name": "python",
   "version": "3.13.0"
  }
 },
 "nbformat": 4,
 "nbformat_minor": 5
}
